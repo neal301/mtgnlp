{
 "cells": [
  {
   "cell_type": "markdown",
   "metadata": {},
   "source": [
    "### Data cleaning and importing"
   ]
  },
  {
   "cell_type": "code",
   "execution_count": 1,
   "metadata": {},
   "outputs": [],
   "source": [
    "import pandas as pd\n",
    "import numpy as np"
   ]
  },
  {
   "cell_type": "code",
   "execution_count": 2,
   "metadata": {},
   "outputs": [],
   "source": [
    "df = pd.read_pickle('data/cards_clean_final.pkl')"
   ]
  },
  {
   "cell_type": "code",
   "execution_count": 4,
   "metadata": {},
   "outputs": [],
   "source": [
    "from sklearn.feature_extraction.text import TfidfVectorizer\n",
    "\n",
    "# Create an instance of TfidfVectorizer\n",
    "vectorizer = TfidfVectorizer()"
   ]
  },
  {
   "cell_type": "code",
   "execution_count": 6,
   "metadata": {},
   "outputs": [
    {
     "data": {
      "text/html": [
       "<div>\n",
       "<style scoped>\n",
       "    .dataframe tbody tr th:only-of-type {\n",
       "        vertical-align: middle;\n",
       "    }\n",
       "\n",
       "    .dataframe tbody tr th {\n",
       "        vertical-align: top;\n",
       "    }\n",
       "\n",
       "    .dataframe thead th {\n",
       "        text-align: right;\n",
       "    }\n",
       "</style>\n",
       "<table border=\"1\" class=\"dataframe\">\n",
       "  <thead>\n",
       "    <tr style=\"text-align: right;\">\n",
       "      <th></th>\n",
       "      <th>id</th>\n",
       "      <th>name</th>\n",
       "      <th>highres_image</th>\n",
       "      <th>mana_cost</th>\n",
       "      <th>cmc</th>\n",
       "      <th>type_line</th>\n",
       "      <th>oracle_text</th>\n",
       "      <th>power</th>\n",
       "      <th>toughness</th>\n",
       "      <th>color_identity</th>\n",
       "      <th>...</th>\n",
       "      <th>Disturb</th>\n",
       "      <th>oracle_text_tokens</th>\n",
       "      <th>type_line_tokens</th>\n",
       "      <th>glove_embedding</th>\n",
       "      <th>glove_embedding_type_line</th>\n",
       "      <th>word2vec_embedding</th>\n",
       "      <th>word2vec_embedding_type_line</th>\n",
       "      <th>fasttext_embedding</th>\n",
       "      <th>fasttext_embedding_type_line</th>\n",
       "      <th>bert_embedding</th>\n",
       "    </tr>\n",
       "  </thead>\n",
       "  <tbody>\n",
       "    <tr>\n",
       "      <th>0</th>\n",
       "      <td>0000579f-7b35-4ed3-b44c-db2a538066fe</td>\n",
       "      <td>Fury Sliver</td>\n",
       "      <td>True</td>\n",
       "      <td>{5}{R}</td>\n",
       "      <td>6.0</td>\n",
       "      <td>Creature — Sliver</td>\n",
       "      <td>All Sliver creatures have double strike.</td>\n",
       "      <td>3.0</td>\n",
       "      <td>3.0</td>\n",
       "      <td>[R]</td>\n",
       "      <td>...</td>\n",
       "      <td>0</td>\n",
       "      <td>[all, sliver, creatures, have, double strike]</td>\n",
       "      <td>[creature, sliver]</td>\n",
       "      <td>[-0.1752575, 0.62444496, 0.66865623, -0.255527...</td>\n",
       "      <td>[-0.28311002, 0.507995, 0.9661, 0.11280501, 0....</td>\n",
       "      <td>[0.051513672, 0.017791748, -0.048034668, 0.063...</td>\n",
       "      <td>[0.19970703, 0.0063476562, -0.0904541, -0.0258...</td>\n",
       "      <td>[0.0073304246, -0.0107843, 0.017301675, 0.0127...</td>\n",
       "      <td>[0.00787795, 0.0245347, 0.008605201, 0.0164214...</td>\n",
       "      <td>[-0.014190583, 0.041132353, 0.060768433, -0.15...</td>\n",
       "    </tr>\n",
       "  </tbody>\n",
       "</table>\n",
       "<p>1 rows × 95 columns</p>\n",
       "</div>"
      ],
      "text/plain": [
       "                                     id         name highres_image mana_cost  \\\n",
       "0  0000579f-7b35-4ed3-b44c-db2a538066fe  Fury Sliver          True    {5}{R}   \n",
       "\n",
       "   cmc          type_line                               oracle_text  power  \\\n",
       "0  6.0  Creature — Sliver  All Sliver creatures have double strike.    3.0   \n",
       "\n",
       "   toughness color_identity  ... Disturb  \\\n",
       "0        3.0            [R]  ...       0   \n",
       "\n",
       "                              oracle_text_tokens    type_line_tokens  \\\n",
       "0  [all, sliver, creatures, have, double strike]  [creature, sliver]   \n",
       "\n",
       "                                     glove_embedding  \\\n",
       "0  [-0.1752575, 0.62444496, 0.66865623, -0.255527...   \n",
       "\n",
       "                           glove_embedding_type_line  \\\n",
       "0  [-0.28311002, 0.507995, 0.9661, 0.11280501, 0....   \n",
       "\n",
       "                                  word2vec_embedding  \\\n",
       "0  [0.051513672, 0.017791748, -0.048034668, 0.063...   \n",
       "\n",
       "                        word2vec_embedding_type_line  \\\n",
       "0  [0.19970703, 0.0063476562, -0.0904541, -0.0258...   \n",
       "\n",
       "                                  fasttext_embedding  \\\n",
       "0  [0.0073304246, -0.0107843, 0.017301675, 0.0127...   \n",
       "\n",
       "                        fasttext_embedding_type_line  \\\n",
       "0  [0.00787795, 0.0245347, 0.008605201, 0.0164214...   \n",
       "\n",
       "                                      bert_embedding  \n",
       "0  [-0.014190583, 0.041132353, 0.060768433, -0.15...  \n",
       "\n",
       "[1 rows x 95 columns]"
      ]
     },
     "execution_count": 6,
     "metadata": {},
     "output_type": "execute_result"
    }
   ],
   "source": [
    "df.head(1)"
   ]
  },
  {
   "cell_type": "code",
   "execution_count": 9,
   "metadata": {},
   "outputs": [],
   "source": [
    "# import re\n",
    "\n",
    "# def preprocess_text(text):\n",
    "#     if isinstance(text, float):\n",
    "#         text = str(text)\n",
    "#     text = text.lower()\n",
    "#     text = text.replace(\"\\n\", \" \")\n",
    "#     text = re.sub(r'{[^}]+}', 'symbol', text)\n",
    "#     text = re.sub(r'[^\\w\\s]', '', text)\n",
    "#     return text\n",
    "# df['oracle_text_processed'] = df['oracle_text'].apply(preprocess_text)"
   ]
  },
  {
   "cell_type": "code",
   "execution_count": 11,
   "metadata": {},
   "outputs": [],
   "source": [
    "X = vectorizer.fit_transform(df['oracle_text_processed'])\n",
    "df['tfidf'] = list(X.toarray())"
   ]
  },
  {
   "cell_type": "markdown",
   "metadata": {},
   "source": [
    "### Cosine Similarity"
   ]
  },
  {
   "cell_type": "code",
   "execution_count": 15,
   "metadata": {},
   "outputs": [],
   "source": [
    "from sklearn.metrics.pairwise import cosine_similarity"
   ]
  },
  {
   "cell_type": "code",
   "execution_count": 16,
   "metadata": {},
   "outputs": [],
   "source": [
    "test_names = ['Torbran, Thane of Red Fell', 'Rocco, Street Chef', 'Sai, Master Thopterist']\n",
    "test_cards = df[df['name'].isin(test_names)]"
   ]
  },
  {
   "cell_type": "code",
   "execution_count": 17,
   "metadata": {},
   "outputs": [
    {
     "data": {
      "text/plain": [
       "array([ 1841, 14915, 16296, 25800, 28166], dtype=int64)"
      ]
     },
     "execution_count": 17,
     "metadata": {},
     "output_type": "execute_result"
    }
   ],
   "source": [
    "cosine_sim = cosine_similarity(list(df['tfidf']), test_cards['tfidf'].iloc[0].reshape(1, -1))\n",
    "top5 = cosine_sim.flatten().argsort()[-5:][::-1]\n",
    "top5"
   ]
  },
  {
   "cell_type": "code",
   "execution_count": 19,
   "metadata": {},
   "outputs": [
    {
     "data": {
      "text/plain": [
       "1887     If a red source you control would deal damage ...\n",
       "15300    If a red or artifact source you control would ...\n",
       "16719    Flying, haste\\nIf a spell would deal damage to...\n",
       "26465    If a red spell would deal damage to a permanen...\n",
       "28869    Protection from red\\nIf a red source would dea...\n",
       "Name: oracle_text, dtype: object"
      ]
     },
     "execution_count": 19,
     "metadata": {},
     "output_type": "execute_result"
    }
   ],
   "source": [
    "df.iloc[top5]['oracle_text']"
   ]
  },
  {
   "cell_type": "markdown",
   "metadata": {},
   "source": [
    "### Nearest Neighbors"
   ]
  },
  {
   "cell_type": "code",
   "execution_count": 12,
   "metadata": {},
   "outputs": [
    {
     "data": {
      "text/html": [
       "<style>#sk-container-id-1 {color: black;}#sk-container-id-1 pre{padding: 0;}#sk-container-id-1 div.sk-toggleable {background-color: white;}#sk-container-id-1 label.sk-toggleable__label {cursor: pointer;display: block;width: 100%;margin-bottom: 0;padding: 0.3em;box-sizing: border-box;text-align: center;}#sk-container-id-1 label.sk-toggleable__label-arrow:before {content: \"▸\";float: left;margin-right: 0.25em;color: #696969;}#sk-container-id-1 label.sk-toggleable__label-arrow:hover:before {color: black;}#sk-container-id-1 div.sk-estimator:hover label.sk-toggleable__label-arrow:before {color: black;}#sk-container-id-1 div.sk-toggleable__content {max-height: 0;max-width: 0;overflow: hidden;text-align: left;background-color: #f0f8ff;}#sk-container-id-1 div.sk-toggleable__content pre {margin: 0.2em;color: black;border-radius: 0.25em;background-color: #f0f8ff;}#sk-container-id-1 input.sk-toggleable__control:checked~div.sk-toggleable__content {max-height: 200px;max-width: 100%;overflow: auto;}#sk-container-id-1 input.sk-toggleable__control:checked~label.sk-toggleable__label-arrow:before {content: \"▾\";}#sk-container-id-1 div.sk-estimator input.sk-toggleable__control:checked~label.sk-toggleable__label {background-color: #d4ebff;}#sk-container-id-1 div.sk-label input.sk-toggleable__control:checked~label.sk-toggleable__label {background-color: #d4ebff;}#sk-container-id-1 input.sk-hidden--visually {border: 0;clip: rect(1px 1px 1px 1px);clip: rect(1px, 1px, 1px, 1px);height: 1px;margin: -1px;overflow: hidden;padding: 0;position: absolute;width: 1px;}#sk-container-id-1 div.sk-estimator {font-family: monospace;background-color: #f0f8ff;border: 1px dotted black;border-radius: 0.25em;box-sizing: border-box;margin-bottom: 0.5em;}#sk-container-id-1 div.sk-estimator:hover {background-color: #d4ebff;}#sk-container-id-1 div.sk-parallel-item::after {content: \"\";width: 100%;border-bottom: 1px solid gray;flex-grow: 1;}#sk-container-id-1 div.sk-label:hover label.sk-toggleable__label {background-color: #d4ebff;}#sk-container-id-1 div.sk-serial::before {content: \"\";position: absolute;border-left: 1px solid gray;box-sizing: border-box;top: 0;bottom: 0;left: 50%;z-index: 0;}#sk-container-id-1 div.sk-serial {display: flex;flex-direction: column;align-items: center;background-color: white;padding-right: 0.2em;padding-left: 0.2em;position: relative;}#sk-container-id-1 div.sk-item {position: relative;z-index: 1;}#sk-container-id-1 div.sk-parallel {display: flex;align-items: stretch;justify-content: center;background-color: white;position: relative;}#sk-container-id-1 div.sk-item::before, #sk-container-id-1 div.sk-parallel-item::before {content: \"\";position: absolute;border-left: 1px solid gray;box-sizing: border-box;top: 0;bottom: 0;left: 50%;z-index: -1;}#sk-container-id-1 div.sk-parallel-item {display: flex;flex-direction: column;z-index: 1;position: relative;background-color: white;}#sk-container-id-1 div.sk-parallel-item:first-child::after {align-self: flex-end;width: 50%;}#sk-container-id-1 div.sk-parallel-item:last-child::after {align-self: flex-start;width: 50%;}#sk-container-id-1 div.sk-parallel-item:only-child::after {width: 0;}#sk-container-id-1 div.sk-dashed-wrapped {border: 1px dashed gray;margin: 0 0.4em 0.5em 0.4em;box-sizing: border-box;padding-bottom: 0.4em;background-color: white;}#sk-container-id-1 div.sk-label label {font-family: monospace;font-weight: bold;display: inline-block;line-height: 1.2em;}#sk-container-id-1 div.sk-label-container {text-align: center;}#sk-container-id-1 div.sk-container {/* jupyter's `normalize.less` sets `[hidden] { display: none; }` but bootstrap.min.css set `[hidden] { display: none !important; }` so we also need the `!important` here to be able to override the default hidden behavior on the sphinx rendered scikit-learn.org. See: https://github.com/scikit-learn/scikit-learn/issues/21755 */display: inline-block !important;position: relative;}#sk-container-id-1 div.sk-text-repr-fallback {display: none;}</style><div id=\"sk-container-id-1\" class=\"sk-top-container\"><div class=\"sk-text-repr-fallback\"><pre>NearestNeighbors(algorithm=&#x27;kd_tree&#x27;)</pre><b>In a Jupyter environment, please rerun this cell to show the HTML representation or trust the notebook. <br />On GitHub, the HTML representation is unable to render, please try loading this page with nbviewer.org.</b></div><div class=\"sk-container\" hidden><div class=\"sk-item\"><div class=\"sk-estimator sk-toggleable\"><input class=\"sk-toggleable__control sk-hidden--visually\" id=\"sk-estimator-id-1\" type=\"checkbox\" checked><label for=\"sk-estimator-id-1\" class=\"sk-toggleable__label sk-toggleable__label-arrow\">NearestNeighbors</label><div class=\"sk-toggleable__content\"><pre>NearestNeighbors(algorithm=&#x27;kd_tree&#x27;)</pre></div></div></div></div></div>"
      ],
      "text/plain": [
       "NearestNeighbors(algorithm='kd_tree')"
      ]
     },
     "execution_count": 12,
     "metadata": {},
     "output_type": "execute_result"
    }
   ],
   "source": [
    "from sklearn.neighbors import NearestNeighbors\n",
    "\n",
    "# Create an instance of NearestNeighbors\n",
    "nn = NearestNeighbors(n_neighbors=5, algorithm='kd_tree')\n",
    "nn.fit(df['tfidf'].tolist())"
   ]
  },
  {
   "cell_type": "code",
   "execution_count": 14,
   "metadata": {},
   "outputs": [
    {
     "data": {
      "text/html": [
       "<div>\n",
       "<style scoped>\n",
       "    .dataframe tbody tr th:only-of-type {\n",
       "        vertical-align: middle;\n",
       "    }\n",
       "\n",
       "    .dataframe tbody tr th {\n",
       "        vertical-align: top;\n",
       "    }\n",
       "\n",
       "    .dataframe thead th {\n",
       "        text-align: right;\n",
       "    }\n",
       "</style>\n",
       "<table border=\"1\" class=\"dataframe\">\n",
       "  <thead>\n",
       "    <tr style=\"text-align: right;\">\n",
       "      <th></th>\n",
       "      <th>id</th>\n",
       "      <th>name</th>\n",
       "      <th>mana_cost</th>\n",
       "      <th>cmc</th>\n",
       "      <th>type_line</th>\n",
       "      <th>oracle_text</th>\n",
       "      <th>power</th>\n",
       "      <th>toughness</th>\n",
       "      <th>colors</th>\n",
       "      <th>color_identity</th>\n",
       "      <th>keywords</th>\n",
       "      <th>legalities</th>\n",
       "      <th>text</th>\n",
       "      <th>tfidf</th>\n",
       "    </tr>\n",
       "  </thead>\n",
       "  <tbody>\n",
       "    <tr>\n",
       "      <th>1899</th>\n",
       "      <td>064ce69c-da9c-4d7b-8ec1-4ad300c011d1</td>\n",
       "      <td>Torbran, Thane of Red Fell</td>\n",
       "      <td>{1}{R}{R}{R}</td>\n",
       "      <td>4.0</td>\n",
       "      <td>Legendary Creature — Dwarf Noble</td>\n",
       "      <td>If a red source you control would deal damage ...</td>\n",
       "      <td>2</td>\n",
       "      <td>4</td>\n",
       "      <td>['R']</td>\n",
       "      <td>['R']</td>\n",
       "      <td>[]</td>\n",
       "      <td>{'standard': 'not_legal', 'future': 'not_legal...</td>\n",
       "      <td>if a red source you control would deal damage ...</td>\n",
       "      <td>[0.0, 0.0, 0.0, 0.0, 0.0, 0.0, 0.0, 0.0, 0.0, ...</td>\n",
       "    </tr>\n",
       "    <tr>\n",
       "      <th>6514</th>\n",
       "      <td>19316cbb-d1af-4ab7-b588-78637503e986</td>\n",
       "      <td>Sai, Master Thopterist</td>\n",
       "      <td>{2}{U}</td>\n",
       "      <td>3.0</td>\n",
       "      <td>Legendary Creature — Human Artificer</td>\n",
       "      <td>Whenever you cast an artifact spell, create a ...</td>\n",
       "      <td>1</td>\n",
       "      <td>4</td>\n",
       "      <td>['U']</td>\n",
       "      <td>['U']</td>\n",
       "      <td>[]</td>\n",
       "      <td>{'standard': 'not_legal', 'future': 'not_legal...</td>\n",
       "      <td>whenever you cast an artifact spell create a 1...</td>\n",
       "      <td>[0.0, 0.0, 0.0, 0.0, 0.0, 0.0, 0.0, 0.0, 0.0, ...</td>\n",
       "    </tr>\n",
       "    <tr>\n",
       "      <th>13452</th>\n",
       "      <td>421c2ed3-be60-4814-a82c-a0e3fbb97e63</td>\n",
       "      <td>Rocco, Street Chef</td>\n",
       "      <td>{R}{G}{W}</td>\n",
       "      <td>3.0</td>\n",
       "      <td>Legendary Creature — Elf Druid</td>\n",
       "      <td>At the beginning of your end step, each player...</td>\n",
       "      <td>2</td>\n",
       "      <td>4</td>\n",
       "      <td>['G', 'R', 'W']</td>\n",
       "      <td>['G', 'R', 'W']</td>\n",
       "      <td>['Food']</td>\n",
       "      <td>{'standard': 'legal', 'future': 'legal', 'hist...</td>\n",
       "      <td>at the beginning of your end step each player ...</td>\n",
       "      <td>[0.0, 0.0, 0.0, 0.0, 0.0, 0.0, 0.0, 0.0, 0.0, ...</td>\n",
       "    </tr>\n",
       "  </tbody>\n",
       "</table>\n",
       "</div>"
      ],
      "text/plain": [
       "                                         id                        name  \\\n",
       "1899   064ce69c-da9c-4d7b-8ec1-4ad300c011d1  Torbran, Thane of Red Fell   \n",
       "6514   19316cbb-d1af-4ab7-b588-78637503e986      Sai, Master Thopterist   \n",
       "13452  421c2ed3-be60-4814-a82c-a0e3fbb97e63          Rocco, Street Chef   \n",
       "\n",
       "          mana_cost  cmc                             type_line  \\\n",
       "1899   {1}{R}{R}{R}  4.0      Legendary Creature — Dwarf Noble   \n",
       "6514         {2}{U}  3.0  Legendary Creature — Human Artificer   \n",
       "13452     {R}{G}{W}  3.0        Legendary Creature — Elf Druid   \n",
       "\n",
       "                                             oracle_text power toughness  \\\n",
       "1899   If a red source you control would deal damage ...     2         4   \n",
       "6514   Whenever you cast an artifact spell, create a ...     1         4   \n",
       "13452  At the beginning of your end step, each player...     2         4   \n",
       "\n",
       "                colors   color_identity  keywords  \\\n",
       "1899             ['R']            ['R']        []   \n",
       "6514             ['U']            ['U']        []   \n",
       "13452  ['G', 'R', 'W']  ['G', 'R', 'W']  ['Food']   \n",
       "\n",
       "                                              legalities  \\\n",
       "1899   {'standard': 'not_legal', 'future': 'not_legal...   \n",
       "6514   {'standard': 'not_legal', 'future': 'not_legal...   \n",
       "13452  {'standard': 'legal', 'future': 'legal', 'hist...   \n",
       "\n",
       "                                                    text  \\\n",
       "1899   if a red source you control would deal damage ...   \n",
       "6514   whenever you cast an artifact spell create a 1...   \n",
       "13452  at the beginning of your end step each player ...   \n",
       "\n",
       "                                                   tfidf  \n",
       "1899   [0.0, 0.0, 0.0, 0.0, 0.0, 0.0, 0.0, 0.0, 0.0, ...  \n",
       "6514   [0.0, 0.0, 0.0, 0.0, 0.0, 0.0, 0.0, 0.0, 0.0, ...  \n",
       "13452  [0.0, 0.0, 0.0, 0.0, 0.0, 0.0, 0.0, 0.0, 0.0, ...  "
      ]
     },
     "execution_count": 14,
     "metadata": {},
     "output_type": "execute_result"
    }
   ],
   "source": [
    "test_cards.head(3)"
   ]
  },
  {
   "cell_type": "code",
   "execution_count": 15,
   "metadata": {},
   "outputs": [],
   "source": [
    "distances, indices = nn.kneighbors(test_cards['tfidf'].tolist())"
   ]
  },
  {
   "cell_type": "code",
   "execution_count": 16,
   "metadata": {},
   "outputs": [
    {
     "name": "stdout",
     "output_type": "stream",
     "text": [
      "Rank: 1, Index: 1823, Distance: 0.0\n",
      "Rank: 2, Index: 14870, Distance: 0.2103649050410412\n",
      "Rank: 3, Index: 16261, Distance: 0.6196337873034967\n",
      "Rank: 4, Index: 25815, Distance: 0.7512734237693233\n",
      "Rank: 5, Index: 11355, Distance: 0.7618967789432729\n"
     ]
    }
   ],
   "source": [
    "for rank, index in enumerate(indices[0], start=1):\n",
    "    print(f\"Rank: {rank}, Index: {index}, Distance: {distances[0][rank-1]}\")"
   ]
  }
 ],
 "metadata": {
  "kernelspec": {
   "display_name": "dsc",
   "language": "python",
   "name": "python3"
  },
  "language_info": {
   "codemirror_mode": {
    "name": "ipython",
    "version": 3
   },
   "file_extension": ".py",
   "mimetype": "text/x-python",
   "name": "python",
   "nbconvert_exporter": "python",
   "pygments_lexer": "ipython3",
   "version": "3.12.2"
  }
 },
 "nbformat": 4,
 "nbformat_minor": 2
}
