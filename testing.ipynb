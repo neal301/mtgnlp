{
 "cells": [
  {
   "cell_type": "code",
   "execution_count": 3,
   "metadata": {},
   "outputs": [],
   "source": [
    "import pandas as pd\n",
    "\n",
    "df = pd.read_pickle(\"data/cards_clean_final.pkl\")\n"
   ]
  },
  {
   "cell_type": "code",
   "execution_count": 5,
   "metadata": {},
   "outputs": [
    {
     "data": {
      "text/plain": [
       "Index(['id', 'name', 'highres_image', 'mana_cost', 'cmc', 'type_line',\n",
       "       'oracle_text', 'power', 'toughness', 'color_identity', 'keywords',\n",
       "       'legalities', 'colorless_int', 'U_int', 'G_int', 'W_int', 'B_int',\n",
       "       'R_int', 'X_int', 'C_int', 'P_int', 'S_int', 'color_W', 'color_U',\n",
       "       'color_B', 'color_R', 'color_G', 'color_None', 'Flying', 'Explore',\n",
       "       'Enchant', 'Foretell', 'Kicker', 'Trample', 'Defender', 'Reach',\n",
       "       'Lifelink', 'First strike', 'Equip', 'Hexproof', 'Surveil', 'Vigilance',\n",
       "       'Devoid', 'Cycling', 'Food', 'Landcycling', 'Typecycling', 'Goad',\n",
       "       'Investigate', 'Proliferate', 'Scry', 'Conjure', 'Double strike',\n",
       "       'Haste', 'Convoke', 'Flash', 'Threshold', 'Flashback', 'Crew',\n",
       "       'Landwalk', 'Partner', 'Menace', 'Mill', 'Transform', 'Deathtouch',\n",
       "       'Fight', 'Indestructible', 'Suspend', 'Treasure', 'Ward', 'Landfall',\n",
       "       'Unearth', 'Prowess', 'Morph', 'Seek', 'Protection', 'Delirium',\n",
       "       'Cumulative upkeep', 'Echo', 'Domain', 'Amass', 'Madness', 'Aftermath',\n",
       "       'Daybound', 'Nightbound', 'Disturb', 'oracle_text_tokens',\n",
       "       'type_line_tokens', 'glove_embedding', 'glove_embedding_type_line',\n",
       "       'word2vec_embedding', 'word2vec_embedding_type_line',\n",
       "       'fasttext_embedding', 'fasttext_embedding_type_line', 'bert_embedding'],\n",
       "      dtype='object')"
      ]
     },
     "execution_count": 5,
     "metadata": {},
     "output_type": "execute_result"
    }
   ],
   "source": [
    "df.columns"
   ]
  },
  {
   "cell_type": "code",
   "execution_count": 1,
   "metadata": {},
   "outputs": [],
   "source": [
    "import re\n",
    "\n",
    "def preprocess_text(text):\n",
    "    if isinstance(text, float):\n",
    "        text = str(text)\n",
    "    text = text.lower()\n",
    "    text = text.replace(\"\\n\", \" \")\n",
    "    text = re.sub(r'{[^}]+}', 'symbol', text)\n",
    "    text = re.sub(r'[^\\w\\s]', '', text)\n",
    "    return text.split()"
   ]
  },
  {
   "cell_type": "code",
   "execution_count": null,
   "metadata": {},
   "outputs": [],
   "source": []
  }
 ],
 "metadata": {
  "kernelspec": {
   "display_name": "dsc",
   "language": "python",
   "name": "python3"
  },
  "language_info": {
   "codemirror_mode": {
    "name": "ipython",
    "version": 3
   },
   "file_extension": ".py",
   "mimetype": "text/x-python",
   "name": "python",
   "nbconvert_exporter": "python",
   "pygments_lexer": "ipython3",
   "version": "3.12.2"
  }
 },
 "nbformat": 4,
 "nbformat_minor": 2
}
