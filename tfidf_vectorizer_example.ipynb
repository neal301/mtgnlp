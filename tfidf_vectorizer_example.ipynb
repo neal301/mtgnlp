{
 "cells": [
  {
   "cell_type": "code",
   "execution_count": null,
   "metadata": {},
   "outputs": [],
   "source": [
    "from sklearn.feature_extraction.text import TfidfVectorizer\n",
    "from sklearn.metrics.pairwise import cosine_similarity\n",
    "\n",
    "# let's say you have the following data\n",
    "data = [\"paragraph 1\", \"paragraph 2\", \"paragraph 3\", \"paragraph 4\"]\n",
    "\n",
    "vectorizer = TfidfVectorizer()\n",
    "X = vectorizer.fit_transform(data)\n",
    "\n",
    "# let's say the user selected the first item\n",
    "selected_item_vector = X[0]\n",
    "\n",
    "# calculate cosine similarities\n",
    "cosine_similarities = cosine_similarity(selected_item_vector, X).flatten()\n",
    "\n",
    "# get the top similar items\n",
    "top_similar_items = cosine_similarities.argsort()[:-5:-1]"
   ]
  }
 ],
 "metadata": {
  "language_info": {
   "name": "python"
  }
 },
 "nbformat": 4,
 "nbformat_minor": 2
}
