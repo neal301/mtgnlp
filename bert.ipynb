{
 "cells": [
  {
   "cell_type": "code",
   "execution_count": 3,
   "metadata": {},
   "outputs": [],
   "source": [
    "# RUN THIS CELL AND THEN RUN THE COSINE SECTION ONWARDS\n",
    "\n",
    "import pandas as pd\n",
    "import numpy as np\n",
    "import torch\n",
    "from transformers import BertTokenizer, BertModel\n",
    "from sklearn.metrics.pairwise import cosine_similarity"
   ]
  },
  {
   "cell_type": "code",
   "execution_count": null,
   "metadata": {},
   "outputs": [],
   "source": [
    "df = pd.read_csv('data/cards_clean.csv')"
   ]
  },
  {
   "cell_type": "code",
   "execution_count": 2,
   "metadata": {},
   "outputs": [],
   "source": [
    "from scripts_and_functions.functions import preprocess_text\n",
    "\n",
    "df['text'] = preprocess_text(df['oracle_text'])\n",
    "df = df.dropna(subset=['text'])"
   ]
  },
  {
   "cell_type": "code",
   "execution_count": 5,
   "metadata": {},
   "outputs": [
    {
     "data": {
      "text/plain": [
       "BertModel(\n",
       "  (embeddings): BertEmbeddings(\n",
       "    (word_embeddings): Embedding(30522, 768, padding_idx=0)\n",
       "    (position_embeddings): Embedding(512, 768)\n",
       "    (token_type_embeddings): Embedding(2, 768)\n",
       "    (LayerNorm): LayerNorm((768,), eps=1e-12, elementwise_affine=True)\n",
       "    (dropout): Dropout(p=0.1, inplace=False)\n",
       "  )\n",
       "  (encoder): BertEncoder(\n",
       "    (layer): ModuleList(\n",
       "      (0-11): 12 x BertLayer(\n",
       "        (attention): BertAttention(\n",
       "          (self): BertSelfAttention(\n",
       "            (query): Linear(in_features=768, out_features=768, bias=True)\n",
       "            (key): Linear(in_features=768, out_features=768, bias=True)\n",
       "            (value): Linear(in_features=768, out_features=768, bias=True)\n",
       "            (dropout): Dropout(p=0.1, inplace=False)\n",
       "          )\n",
       "          (output): BertSelfOutput(\n",
       "            (dense): Linear(in_features=768, out_features=768, bias=True)\n",
       "            (LayerNorm): LayerNorm((768,), eps=1e-12, elementwise_affine=True)\n",
       "            (dropout): Dropout(p=0.1, inplace=False)\n",
       "          )\n",
       "        )\n",
       "        (intermediate): BertIntermediate(\n",
       "          (dense): Linear(in_features=768, out_features=3072, bias=True)\n",
       "        )\n",
       "        (output): BertOutput(\n",
       "          (dense): Linear(in_features=3072, out_features=768, bias=True)\n",
       "          (LayerNorm): LayerNorm((768,), eps=1e-12, elementwise_affine=True)\n",
       "          (dropout): Dropout(p=0.1, inplace=False)\n",
       "        )\n",
       "      )\n",
       "    )\n",
       "  )\n",
       "  (pooler): BertPooler(\n",
       "    (dense): Linear(in_features=768, out_features=768, bias=True)\n",
       "    (activation): Tanh()\n",
       "  )\n",
       ")"
      ]
     },
     "execution_count": 5,
     "metadata": {},
     "output_type": "execute_result"
    }
   ],
   "source": [
    "tokenizer = BertTokenizer.from_pretrained('bert-base-uncased')\n",
    "\n",
    "model = BertModel.from_pretrained('bert-base-uncased')\n",
    "\n",
    "model.eval()"
   ]
  },
  {
   "cell_type": "code",
   "execution_count": 7,
   "metadata": {},
   "outputs": [],
   "source": [
    "#from scripts_and_functions.functions import bert_embedding\n",
    "\n",
    "def bert_embedding(text):\n",
    "    '''\n",
    "    Takes in a string and returns the BERT embeddings of the string.\n",
    "    '''\n",
    "    # Add special tokens takes care of adding [CLS], [SEP], <s>... tokens in the right way for each model.\n",
    "    input_ids = tokenizer.encode(text, add_special_tokens=True)\n",
    "    input_ids = torch.tensor(input_ids).unsqueeze(0)  # Batch size 1\n",
    "\n",
    "    # Get the embeddings\n",
    "    with torch.no_grad():\n",
    "        outputs = model(input_ids)\n",
    "\n",
    "    # outputs[0] contains the hidden states of the last layer\n",
    "    # We take the embeddings from the first token of the last layer which corresponds to [CLS]\n",
    "    embeddings = outputs[0][0, 0, :].numpy()\n",
    "\n",
    "    return embeddings\n",
    "\n",
    "df['bert'] = df['text'].apply(bert_embedding)\n",
    "df['bert'] = df['bert'].apply(lambda x: np.fromstring(x[1:-1], sep=' '))"
   ]
  },
  {
   "cell_type": "markdown",
   "metadata": {},
   "source": [
    "### Cosine Similarity"
   ]
  },
  {
   "cell_type": "code",
   "execution_count": 4,
   "metadata": {},
   "outputs": [],
   "source": [
    "df = pd.read_csv('data/cards_bert.csv')\n",
    "df['bert'] = df['bert'].apply(lambda x: np.fromstring(x[1:-1], sep=' '))  # must run after reading CSV to convert string data to numpy array"
   ]
  },
  {
   "cell_type": "code",
   "execution_count": 16,
   "metadata": {},
   "outputs": [],
   "source": [
    "test_names = ['Torbran, Thane of Red Fell', 'Rocco, Street Chef', 'Sai, Master Thopterist']\n",
    "test_cards = df[df['name'].isin(test_names)]"
   ]
  },
  {
   "cell_type": "code",
   "execution_count": 17,
   "metadata": {},
   "outputs": [
    {
     "data": {
      "text/plain": [
       "array([ 1823, 14870,  5949, 10336,  3127], dtype=int64)"
      ]
     },
     "execution_count": 17,
     "metadata": {},
     "output_type": "execute_result"
    }
   ],
   "source": [
    "cosine = cosine_similarity(list(df['bert']), test_cards['bert'].iloc[0].reshape(1, -1))\n",
    "top5 = cosine.flatten().argsort()[-5:][::-1]\n",
    "top5"
   ]
  },
  {
   "cell_type": "markdown",
   "metadata": {},
   "source": [
    "### Nearest Neighbors"
   ]
  },
  {
   "cell_type": "code",
   "execution_count": 18,
   "metadata": {},
   "outputs": [
    {
     "data": {
      "text/html": [
       "<style>#sk-container-id-1 {color: black;}#sk-container-id-1 pre{padding: 0;}#sk-container-id-1 div.sk-toggleable {background-color: white;}#sk-container-id-1 label.sk-toggleable__label {cursor: pointer;display: block;width: 100%;margin-bottom: 0;padding: 0.3em;box-sizing: border-box;text-align: center;}#sk-container-id-1 label.sk-toggleable__label-arrow:before {content: \"▸\";float: left;margin-right: 0.25em;color: #696969;}#sk-container-id-1 label.sk-toggleable__label-arrow:hover:before {color: black;}#sk-container-id-1 div.sk-estimator:hover label.sk-toggleable__label-arrow:before {color: black;}#sk-container-id-1 div.sk-toggleable__content {max-height: 0;max-width: 0;overflow: hidden;text-align: left;background-color: #f0f8ff;}#sk-container-id-1 div.sk-toggleable__content pre {margin: 0.2em;color: black;border-radius: 0.25em;background-color: #f0f8ff;}#sk-container-id-1 input.sk-toggleable__control:checked~div.sk-toggleable__content {max-height: 200px;max-width: 100%;overflow: auto;}#sk-container-id-1 input.sk-toggleable__control:checked~label.sk-toggleable__label-arrow:before {content: \"▾\";}#sk-container-id-1 div.sk-estimator input.sk-toggleable__control:checked~label.sk-toggleable__label {background-color: #d4ebff;}#sk-container-id-1 div.sk-label input.sk-toggleable__control:checked~label.sk-toggleable__label {background-color: #d4ebff;}#sk-container-id-1 input.sk-hidden--visually {border: 0;clip: rect(1px 1px 1px 1px);clip: rect(1px, 1px, 1px, 1px);height: 1px;margin: -1px;overflow: hidden;padding: 0;position: absolute;width: 1px;}#sk-container-id-1 div.sk-estimator {font-family: monospace;background-color: #f0f8ff;border: 1px dotted black;border-radius: 0.25em;box-sizing: border-box;margin-bottom: 0.5em;}#sk-container-id-1 div.sk-estimator:hover {background-color: #d4ebff;}#sk-container-id-1 div.sk-parallel-item::after {content: \"\";width: 100%;border-bottom: 1px solid gray;flex-grow: 1;}#sk-container-id-1 div.sk-label:hover label.sk-toggleable__label {background-color: #d4ebff;}#sk-container-id-1 div.sk-serial::before {content: \"\";position: absolute;border-left: 1px solid gray;box-sizing: border-box;top: 0;bottom: 0;left: 50%;z-index: 0;}#sk-container-id-1 div.sk-serial {display: flex;flex-direction: column;align-items: center;background-color: white;padding-right: 0.2em;padding-left: 0.2em;position: relative;}#sk-container-id-1 div.sk-item {position: relative;z-index: 1;}#sk-container-id-1 div.sk-parallel {display: flex;align-items: stretch;justify-content: center;background-color: white;position: relative;}#sk-container-id-1 div.sk-item::before, #sk-container-id-1 div.sk-parallel-item::before {content: \"\";position: absolute;border-left: 1px solid gray;box-sizing: border-box;top: 0;bottom: 0;left: 50%;z-index: -1;}#sk-container-id-1 div.sk-parallel-item {display: flex;flex-direction: column;z-index: 1;position: relative;background-color: white;}#sk-container-id-1 div.sk-parallel-item:first-child::after {align-self: flex-end;width: 50%;}#sk-container-id-1 div.sk-parallel-item:last-child::after {align-self: flex-start;width: 50%;}#sk-container-id-1 div.sk-parallel-item:only-child::after {width: 0;}#sk-container-id-1 div.sk-dashed-wrapped {border: 1px dashed gray;margin: 0 0.4em 0.5em 0.4em;box-sizing: border-box;padding-bottom: 0.4em;background-color: white;}#sk-container-id-1 div.sk-label label {font-family: monospace;font-weight: bold;display: inline-block;line-height: 1.2em;}#sk-container-id-1 div.sk-label-container {text-align: center;}#sk-container-id-1 div.sk-container {/* jupyter's `normalize.less` sets `[hidden] { display: none; }` but bootstrap.min.css set `[hidden] { display: none !important; }` so we also need the `!important` here to be able to override the default hidden behavior on the sphinx rendered scikit-learn.org. See: https://github.com/scikit-learn/scikit-learn/issues/21755 */display: inline-block !important;position: relative;}#sk-container-id-1 div.sk-text-repr-fallback {display: none;}</style><div id=\"sk-container-id-1\" class=\"sk-top-container\"><div class=\"sk-text-repr-fallback\"><pre>NearestNeighbors(algorithm=&#x27;kd_tree&#x27;)</pre><b>In a Jupyter environment, please rerun this cell to show the HTML representation or trust the notebook. <br />On GitHub, the HTML representation is unable to render, please try loading this page with nbviewer.org.</b></div><div class=\"sk-container\" hidden><div class=\"sk-item\"><div class=\"sk-estimator sk-toggleable\"><input class=\"sk-toggleable__control sk-hidden--visually\" id=\"sk-estimator-id-1\" type=\"checkbox\" checked><label for=\"sk-estimator-id-1\" class=\"sk-toggleable__label sk-toggleable__label-arrow\">NearestNeighbors</label><div class=\"sk-toggleable__content\"><pre>NearestNeighbors(algorithm=&#x27;kd_tree&#x27;)</pre></div></div></div></div></div>"
      ],
      "text/plain": [
       "NearestNeighbors(algorithm='kd_tree')"
      ]
     },
     "execution_count": 18,
     "metadata": {},
     "output_type": "execute_result"
    }
   ],
   "source": [
    "from sklearn.neighbors import NearestNeighbors\n",
    "\n",
    "nn = NearestNeighbors(n_neighbors=5, algorithm='kd_tree')\n",
    "nn.fit(df['bert'].tolist())"
   ]
  },
  {
   "cell_type": "code",
   "execution_count": 19,
   "metadata": {},
   "outputs": [
    {
     "data": {
      "text/html": [
       "<div>\n",
       "<style scoped>\n",
       "    .dataframe tbody tr th:only-of-type {\n",
       "        vertical-align: middle;\n",
       "    }\n",
       "\n",
       "    .dataframe tbody tr th {\n",
       "        vertical-align: top;\n",
       "    }\n",
       "\n",
       "    .dataframe thead th {\n",
       "        text-align: right;\n",
       "    }\n",
       "</style>\n",
       "<table border=\"1\" class=\"dataframe\">\n",
       "  <thead>\n",
       "    <tr style=\"text-align: right;\">\n",
       "      <th></th>\n",
       "      <th>Unnamed: 0</th>\n",
       "      <th>id</th>\n",
       "      <th>name</th>\n",
       "      <th>mana_cost</th>\n",
       "      <th>cmc</th>\n",
       "      <th>type_line</th>\n",
       "      <th>oracle_text</th>\n",
       "      <th>power</th>\n",
       "      <th>toughness</th>\n",
       "      <th>colors</th>\n",
       "      <th>color_identity</th>\n",
       "      <th>keywords</th>\n",
       "      <th>legalities</th>\n",
       "      <th>text</th>\n",
       "      <th>bert</th>\n",
       "    </tr>\n",
       "  </thead>\n",
       "  <tbody>\n",
       "    <tr>\n",
       "      <th>1823</th>\n",
       "      <td>1823</td>\n",
       "      <td>064ce69c-da9c-4d7b-8ec1-4ad300c011d1</td>\n",
       "      <td>Torbran, Thane of Red Fell</td>\n",
       "      <td>{1}{R}{R}{R}</td>\n",
       "      <td>4.0</td>\n",
       "      <td>Legendary Creature — Dwarf Noble</td>\n",
       "      <td>If a red source you control would deal damage ...</td>\n",
       "      <td>2</td>\n",
       "      <td>4</td>\n",
       "      <td>['R']</td>\n",
       "      <td>['R']</td>\n",
       "      <td>[]</td>\n",
       "      <td>{'standard': 'not_legal', 'future': 'not_legal...</td>\n",
       "      <td>if a red source you control would deal damage ...</td>\n",
       "      <td>[-0.304124594, -0.172151417, 0.0978919193, 0.1...</td>\n",
       "    </tr>\n",
       "    <tr>\n",
       "      <th>6279</th>\n",
       "      <td>6279</td>\n",
       "      <td>19316cbb-d1af-4ab7-b588-78637503e986</td>\n",
       "      <td>Sai, Master Thopterist</td>\n",
       "      <td>{2}{U}</td>\n",
       "      <td>3.0</td>\n",
       "      <td>Legendary Creature — Human Artificer</td>\n",
       "      <td>Whenever you cast an artifact spell, create a ...</td>\n",
       "      <td>1</td>\n",
       "      <td>4</td>\n",
       "      <td>['U']</td>\n",
       "      <td>['U']</td>\n",
       "      <td>[]</td>\n",
       "      <td>{'standard': 'not_legal', 'future': 'not_legal...</td>\n",
       "      <td>whenever you cast an artifact spell, create a ...</td>\n",
       "      <td>[-0.0737882555, -0.374748558, -0.142685503, -0...</td>\n",
       "    </tr>\n",
       "    <tr>\n",
       "      <th>12970</th>\n",
       "      <td>12970</td>\n",
       "      <td>421c2ed3-be60-4814-a82c-a0e3fbb97e63</td>\n",
       "      <td>Rocco, Street Chef</td>\n",
       "      <td>{R}{G}{W}</td>\n",
       "      <td>3.0</td>\n",
       "      <td>Legendary Creature — Elf Druid</td>\n",
       "      <td>At the beginning of your end step, each player...</td>\n",
       "      <td>2</td>\n",
       "      <td>4</td>\n",
       "      <td>['G', 'R', 'W']</td>\n",
       "      <td>['G', 'R', 'W']</td>\n",
       "      <td>['Food']</td>\n",
       "      <td>{'standard': 'legal', 'future': 'legal', 'hist...</td>\n",
       "      <td>at the beginning of your end step, each player...</td>\n",
       "      <td>[-0.0846293569, -0.849071622, -0.0179633982, -...</td>\n",
       "    </tr>\n",
       "  </tbody>\n",
       "</table>\n",
       "</div>"
      ],
      "text/plain": [
       "       Unnamed: 0                                    id  \\\n",
       "1823         1823  064ce69c-da9c-4d7b-8ec1-4ad300c011d1   \n",
       "6279         6279  19316cbb-d1af-4ab7-b588-78637503e986   \n",
       "12970       12970  421c2ed3-be60-4814-a82c-a0e3fbb97e63   \n",
       "\n",
       "                             name     mana_cost  cmc  \\\n",
       "1823   Torbran, Thane of Red Fell  {1}{R}{R}{R}  4.0   \n",
       "6279       Sai, Master Thopterist        {2}{U}  3.0   \n",
       "12970          Rocco, Street Chef     {R}{G}{W}  3.0   \n",
       "\n",
       "                                  type_line  \\\n",
       "1823       Legendary Creature — Dwarf Noble   \n",
       "6279   Legendary Creature — Human Artificer   \n",
       "12970        Legendary Creature — Elf Druid   \n",
       "\n",
       "                                             oracle_text power toughness  \\\n",
       "1823   If a red source you control would deal damage ...     2         4   \n",
       "6279   Whenever you cast an artifact spell, create a ...     1         4   \n",
       "12970  At the beginning of your end step, each player...     2         4   \n",
       "\n",
       "                colors   color_identity  keywords  \\\n",
       "1823             ['R']            ['R']        []   \n",
       "6279             ['U']            ['U']        []   \n",
       "12970  ['G', 'R', 'W']  ['G', 'R', 'W']  ['Food']   \n",
       "\n",
       "                                              legalities  \\\n",
       "1823   {'standard': 'not_legal', 'future': 'not_legal...   \n",
       "6279   {'standard': 'not_legal', 'future': 'not_legal...   \n",
       "12970  {'standard': 'legal', 'future': 'legal', 'hist...   \n",
       "\n",
       "                                                    text  \\\n",
       "1823   if a red source you control would deal damage ...   \n",
       "6279   whenever you cast an artifact spell, create a ...   \n",
       "12970  at the beginning of your end step, each player...   \n",
       "\n",
       "                                                    bert  \n",
       "1823   [-0.304124594, -0.172151417, 0.0978919193, 0.1...  \n",
       "6279   [-0.0737882555, -0.374748558, -0.142685503, -0...  \n",
       "12970  [-0.0846293569, -0.849071622, -0.0179633982, -...  "
      ]
     },
     "execution_count": 19,
     "metadata": {},
     "output_type": "execute_result"
    }
   ],
   "source": [
    "test_cards.head(3)"
   ]
  },
  {
   "cell_type": "code",
   "execution_count": 30,
   "metadata": {},
   "outputs": [
    {
     "data": {
      "text/plain": [
       "array([[ 1823, 14870,  5949, 10336,  2650],\n",
       "       [ 6279,  3150,  5533, 25877,  3496],\n",
       "       [12970, 17523,  8455,  5178, 14659]], dtype=int64)"
      ]
     },
     "execution_count": 30,
     "metadata": {},
     "output_type": "execute_result"
    }
   ],
   "source": [
    "distances, indices = nn.kneighbors(test_cards['bert'].tolist())\n",
    "indices"
   ]
  },
  {
   "cell_type": "code",
   "execution_count": 23,
   "metadata": {},
   "outputs": [
    {
     "name": "stdout",
     "output_type": "stream",
     "text": [
      "Rank: 1, Index: 1823, Distance: 0.0\n",
      "Rank: 2, Index: 14870, Distance: 2.96660180306115\n",
      "Rank: 3, Index: 5949, Distance: 4.703805388099132\n",
      "Rank: 4, Index: 10336, Distance: 4.788979196948505\n",
      "Rank: 5, Index: 2650, Distance: 4.9183919577294635\n"
     ]
    }
   ],
   "source": [
    "for rank, index in enumerate(indices[0], start=1):\n",
    "    print(f\"Rank: {rank}, Index: {index}, Distance: {distances[0][rank-1]}\")"
   ]
  }
 ],
 "metadata": {
  "kernelspec": {
   "display_name": "tf",
   "language": "python",
   "name": "python3"
  },
  "language_info": {
   "codemirror_mode": {
    "name": "ipython",
    "version": 3
   },
   "file_extension": ".py",
   "mimetype": "text/x-python",
   "name": "python",
   "nbconvert_exporter": "python",
   "pygments_lexer": "ipython3",
   "version": "3.12.2"
  }
 },
 "nbformat": 4,
 "nbformat_minor": 2
}
